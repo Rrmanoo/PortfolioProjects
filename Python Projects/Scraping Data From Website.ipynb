{
 "cells": [
  {
   "cell_type": "code",
   "execution_count": 2,
   "id": "5b91e5be-ea55-40cb-8681-c9cecfa1017f",
   "metadata": {},
   "outputs": [],
   "source": [
    "from bs4 import BeautifulSoup \n",
    "import requests "
   ]
  },
  {
   "cell_type": "code",
   "execution_count": 88,
   "id": "3ea6cb26-43dc-4561-9c51-4b5c4866e549",
   "metadata": {},
   "outputs": [],
   "source": [
    "url = 'https://en.wikipedia.org/wiki/The_World%27s_Billionaires'\n",
    "page = requests.get(url)\n",
    "\n",
    "soup = BeautifulSoup(page.text, 'html')"
   ]
  },
  {
   "cell_type": "code",
   "execution_count": 98,
   "id": "1d7db680-382b-440e-b4ae-98e1cc2e37aa",
   "metadata": {},
   "outputs": [
    {
     "data": {
      "text/plain": [
       "[<th>No.\n",
       " </th>,\n",
       " <th>Name\n",
       " </th>,\n",
       " <th><a href=\"/wiki/Net_worth\" title=\"Net worth\">Net worth</a> (<a href=\"/wiki/United_States_dollar\" title=\"United States dollar\">USD</a>)\n",
       " </th>,\n",
       " <th>Age\n",
       " </th>,\n",
       " <th><a href=\"/wiki/Citizenship\" title=\"Citizenship\">Nationality</a>\n",
       " </th>,\n",
       " <th>Primary source(s) of wealth\n",
       " </th>]"
      ]
     },
     "execution_count": 98,
     "metadata": {},
     "output_type": "execute_result"
    }
   ],
   "source": [
    "table = soup.find_all('table')[2]\n",
    "\n",
    "world_title = table.find_all('th')\n",
    "world_title"
   ]
  },
  {
   "cell_type": "code",
   "execution_count": 99,
   "id": "a006781e-d119-4394-b7cf-c652cedfeae6",
   "metadata": {},
   "outputs": [
    {
     "name": "stdout",
     "output_type": "stream",
     "text": [
      "['No.', 'Name', 'Net worth (USD)', 'Age', 'Nationality', 'Primary source(s) of wealth']\n"
     ]
    }
   ],
   "source": [
    "world_table_titles = [title.text.strip() for title in world_title]\n",
    "print(world_table_titles)"
   ]
  },
  {
   "cell_type": "code",
   "execution_count": 100,
   "id": "3c1fa6d0-5044-476c-8f17-3299277434f7",
   "metadata": {},
   "outputs": [],
   "source": [
    "import pandas as pd\n"
   ]
  },
  {
   "cell_type": "code",
   "execution_count": 101,
   "id": "c7d829de-92f5-4da0-90b2-f7b7590fb5de",
   "metadata": {},
   "outputs": [
    {
     "data": {
      "text/html": [
       "<div>\n",
       "<style scoped>\n",
       "    .dataframe tbody tr th:only-of-type {\n",
       "        vertical-align: middle;\n",
       "    }\n",
       "\n",
       "    .dataframe tbody tr th {\n",
       "        vertical-align: top;\n",
       "    }\n",
       "\n",
       "    .dataframe thead th {\n",
       "        text-align: right;\n",
       "    }\n",
       "</style>\n",
       "<table border=\"1\" class=\"dataframe\">\n",
       "  <thead>\n",
       "    <tr style=\"text-align: right;\">\n",
       "      <th></th>\n",
       "      <th>No.</th>\n",
       "      <th>Name</th>\n",
       "      <th>Net worth (USD)</th>\n",
       "      <th>Age</th>\n",
       "      <th>Nationality</th>\n",
       "      <th>Primary source(s) of wealth</th>\n",
       "    </tr>\n",
       "  </thead>\n",
       "  <tbody>\n",
       "  </tbody>\n",
       "</table>\n",
       "</div>"
      ],
      "text/plain": [
       "Empty DataFrame\n",
       "Columns: [No., Name, Net worth (USD), Age, Nationality, Primary source(s) of wealth]\n",
       "Index: []"
      ]
     },
     "execution_count": 101,
     "metadata": {},
     "output_type": "execute_result"
    }
   ],
   "source": [
    "df = pd.DataFrame(columns = world_table_titles)[:1]\n",
    "df"
   ]
  },
  {
   "cell_type": "code",
   "execution_count": 102,
   "id": "7fc85bfd-ba6a-4f52-b904-91fdec044995",
   "metadata": {},
   "outputs": [],
   "source": [
    "column_data = table.find_all('tr')"
   ]
  },
  {
   "cell_type": "code",
   "execution_count": 104,
   "id": "0049fcd8-c55a-44d5-b620-6c9d764899de",
   "metadata": {},
   "outputs": [
    {
     "name": "stdout",
     "output_type": "stream",
     "text": [
      "['1', 'Bernard Arnault & family', '$211\\xa0billion', '74', 'France', 'LVMH']\n",
      "['2', 'Elon Musk', '$180\\xa0billion', '51', 'United States', 'Tesla, SpaceX, X Corp.']\n",
      "['3', 'Jeff Bezos', '$114\\xa0billion', '59', 'United States', 'Amazon']\n",
      "['4', 'Larry Ellison', '$107\\xa0billion', '78', 'United States', 'Oracle Corporation']\n",
      "['5', 'Warren Buffett', '$106\\xa0billion', '92', 'United States', 'Berkshire Hathaway']\n",
      "['6', 'Bill Gates', '$104\\xa0billion', '67', 'United States', 'Microsoft']\n",
      "['7', 'Michael Bloomberg', '$94.5\\xa0billion', '81', 'United States', 'Bloomberg L.P.']\n",
      "['8', 'Carlos Slim & family', '$93\\xa0billion', '83', 'Mexico', 'Telmex, América Móvil, Grupo Carso']\n",
      "['9', 'Mukesh Ambani', '$83.4\\xa0billion', '65', 'India', 'Reliance Industries']\n",
      "['10', 'Steve Ballmer', '$80.7\\xa0billion', '67', 'United States', 'Microsoft']\n"
     ]
    }
   ],
   "source": [
    "for row in column_data[1:]:\n",
    "    row_data = row.find_all('td')\n",
    "    individual_row_data = [data.text.strip() for data in row_data]\n",
    "    length = len(df)\n",
    "    df.loc[length] = individual_row_data\n",
    "    print(individual_row_data)"
   ]
  },
  {
   "cell_type": "code",
   "execution_count": 105,
   "id": "864fd76f-3120-485a-b16c-d0a760b6c917",
   "metadata": {},
   "outputs": [
    {
     "data": {
      "text/html": [
       "<div>\n",
       "<style scoped>\n",
       "    .dataframe tbody tr th:only-of-type {\n",
       "        vertical-align: middle;\n",
       "    }\n",
       "\n",
       "    .dataframe tbody tr th {\n",
       "        vertical-align: top;\n",
       "    }\n",
       "\n",
       "    .dataframe thead th {\n",
       "        text-align: right;\n",
       "    }\n",
       "</style>\n",
       "<table border=\"1\" class=\"dataframe\">\n",
       "  <thead>\n",
       "    <tr style=\"text-align: right;\">\n",
       "      <th></th>\n",
       "      <th>No.</th>\n",
       "      <th>Name</th>\n",
       "      <th>Net worth (USD)</th>\n",
       "      <th>Age</th>\n",
       "      <th>Nationality</th>\n",
       "      <th>Primary source(s) of wealth</th>\n",
       "    </tr>\n",
       "  </thead>\n",
       "  <tbody>\n",
       "    <tr>\n",
       "      <th>0</th>\n",
       "      <td>1</td>\n",
       "      <td>Bernard Arnault &amp; family</td>\n",
       "      <td>$211 billion</td>\n",
       "      <td>74</td>\n",
       "      <td>France</td>\n",
       "      <td>LVMH</td>\n",
       "    </tr>\n",
       "    <tr>\n",
       "      <th>1</th>\n",
       "      <td>2</td>\n",
       "      <td>Elon Musk</td>\n",
       "      <td>$180 billion</td>\n",
       "      <td>51</td>\n",
       "      <td>United States</td>\n",
       "      <td>Tesla, SpaceX, X Corp.</td>\n",
       "    </tr>\n",
       "    <tr>\n",
       "      <th>2</th>\n",
       "      <td>3</td>\n",
       "      <td>Jeff Bezos</td>\n",
       "      <td>$114 billion</td>\n",
       "      <td>59</td>\n",
       "      <td>United States</td>\n",
       "      <td>Amazon</td>\n",
       "    </tr>\n",
       "    <tr>\n",
       "      <th>3</th>\n",
       "      <td>4</td>\n",
       "      <td>Larry Ellison</td>\n",
       "      <td>$107 billion</td>\n",
       "      <td>78</td>\n",
       "      <td>United States</td>\n",
       "      <td>Oracle Corporation</td>\n",
       "    </tr>\n",
       "    <tr>\n",
       "      <th>4</th>\n",
       "      <td>5</td>\n",
       "      <td>Warren Buffett</td>\n",
       "      <td>$106 billion</td>\n",
       "      <td>92</td>\n",
       "      <td>United States</td>\n",
       "      <td>Berkshire Hathaway</td>\n",
       "    </tr>\n",
       "    <tr>\n",
       "      <th>5</th>\n",
       "      <td>6</td>\n",
       "      <td>Bill Gates</td>\n",
       "      <td>$104 billion</td>\n",
       "      <td>67</td>\n",
       "      <td>United States</td>\n",
       "      <td>Microsoft</td>\n",
       "    </tr>\n",
       "    <tr>\n",
       "      <th>6</th>\n",
       "      <td>7</td>\n",
       "      <td>Michael Bloomberg</td>\n",
       "      <td>$94.5 billion</td>\n",
       "      <td>81</td>\n",
       "      <td>United States</td>\n",
       "      <td>Bloomberg L.P.</td>\n",
       "    </tr>\n",
       "    <tr>\n",
       "      <th>7</th>\n",
       "      <td>8</td>\n",
       "      <td>Carlos Slim &amp; family</td>\n",
       "      <td>$93 billion</td>\n",
       "      <td>83</td>\n",
       "      <td>Mexico</td>\n",
       "      <td>Telmex, América Móvil, Grupo Carso</td>\n",
       "    </tr>\n",
       "    <tr>\n",
       "      <th>8</th>\n",
       "      <td>9</td>\n",
       "      <td>Mukesh Ambani</td>\n",
       "      <td>$83.4 billion</td>\n",
       "      <td>65</td>\n",
       "      <td>India</td>\n",
       "      <td>Reliance Industries</td>\n",
       "    </tr>\n",
       "    <tr>\n",
       "      <th>9</th>\n",
       "      <td>10</td>\n",
       "      <td>Steve Ballmer</td>\n",
       "      <td>$80.7 billion</td>\n",
       "      <td>67</td>\n",
       "      <td>United States</td>\n",
       "      <td>Microsoft</td>\n",
       "    </tr>\n",
       "  </tbody>\n",
       "</table>\n",
       "</div>"
      ],
      "text/plain": [
       "  No.                      Name Net worth (USD) Age    Nationality  \\\n",
       "0   1  Bernard Arnault & family    $211 billion  74         France   \n",
       "1   2                 Elon Musk    $180 billion  51  United States   \n",
       "2   3                Jeff Bezos    $114 billion  59  United States   \n",
       "3   4             Larry Ellison    $107 billion  78  United States   \n",
       "4   5            Warren Buffett    $106 billion  92  United States   \n",
       "5   6                Bill Gates    $104 billion  67  United States   \n",
       "6   7         Michael Bloomberg   $94.5 billion  81  United States   \n",
       "7   8      Carlos Slim & family     $93 billion  83         Mexico   \n",
       "8   9             Mukesh Ambani   $83.4 billion  65          India   \n",
       "9  10             Steve Ballmer   $80.7 billion  67  United States   \n",
       "\n",
       "          Primary source(s) of wealth  \n",
       "0                                LVMH  \n",
       "1              Tesla, SpaceX, X Corp.  \n",
       "2                              Amazon  \n",
       "3                  Oracle Corporation  \n",
       "4                  Berkshire Hathaway  \n",
       "5                           Microsoft  \n",
       "6                      Bloomberg L.P.  \n",
       "7  Telmex, América Móvil, Grupo Carso  \n",
       "8                 Reliance Industries  \n",
       "9                           Microsoft  "
      ]
     },
     "execution_count": 105,
     "metadata": {},
     "output_type": "execute_result"
    }
   ],
   "source": [
    "df"
   ]
  },
  {
   "cell_type": "code",
   "execution_count": 108,
   "id": "10c0d96d-91b2-40ef-838d-c439598c2894",
   "metadata": {},
   "outputs": [],
   "source": [
    "df.to_csv(r'C:\\Users\\77474\\Desktop\\Python\\RichPeople.csv', index = False)"
   ]
  }
 ],
 "metadata": {
  "kernelspec": {
   "display_name": "Python 3 (ipykernel)",
   "language": "python",
   "name": "python3"
  },
  "language_info": {
   "codemirror_mode": {
    "name": "ipython",
    "version": 3
   },
   "file_extension": ".py",
   "mimetype": "text/x-python",
   "name": "python",
   "nbconvert_exporter": "python",
   "pygments_lexer": "ipython3",
   "version": "3.9.13"
  }
 },
 "nbformat": 4,
 "nbformat_minor": 5
}
