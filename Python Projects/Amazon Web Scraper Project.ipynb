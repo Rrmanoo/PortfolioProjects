{
 "cells": [
  {
   "cell_type": "markdown",
   "id": "bae0b6c1-dfd9-4fb8-9e9e-98aea5ac982d",
   "metadata": {},
   "source": [
    "<h1><b>Amazon Web Scraper Project</b></h1>"
   ]
  },
  {
   "cell_type": "code",
   "execution_count": 1,
   "id": "6d34f9a4-ad09-4afb-b00d-0a3a7533ec3b",
   "metadata": {},
   "outputs": [],
   "source": [
    "# import libraries\n",
    "from bs4 import BeautifulSoup\n",
    "import requests\n",
    "import time\n",
    "import datetime\n",
    "import smtplib"
   ]
  },
  {
   "cell_type": "code",
   "execution_count": 42,
   "id": "9e8c183d-44a4-4d5a-8ee9-f01fa957a39c",
   "metadata": {},
   "outputs": [
    {
     "name": "stdout",
     "output_type": "stream",
     "text": [
      "\n",
      "             Retreez Funny Mug - Torture The Data Data Science Scientist Analyst Accounting Statistics 11 Oz Ceramic Coffee Mugs - Funny Sarcasm Inspirational birthday gifts for friend coworker colleague him her\n",
      "            \n",
      "\n",
      "\n",
      "\n",
      "\n",
      "                          $15.55\n",
      "                         \n",
      "\n",
      "\n",
      "                           $\n",
      "                          \n",
      "\n",
      "                           15\n",
      "                           \n",
      "                            .\n",
      "                           \n",
      "\n",
      "\n",
      "                           55\n",
      "                          \n",
      "\n",
      "\n",
      "\n",
      "\n",
      "\n",
      "\n"
     ]
    }
   ],
   "source": [
    "# Connect to WebSite\n",
    "URL = 'https://www.amazon.com/Retreez-Funny-Mug-Accounting-Inspirational/dp/B0BHCP5GMM/ref=sr_1_3?keywords=data+analyst+gift&qid=1689878304&sprefix=data+analyst+%2Caps%2C287&sr=8-3'\n",
    "\n",
    "headers = {\"User-Agent\": \"Mozilla/5.0 (Windows NT 10.0; Win64; x64) AppleWebKit/537.36 (KHTML, like Gecko) Chrome/78.0.3904.108 Safari/537.36\", \"Accept-Encoding\":\"gzip, deflate\", \"Accept\":\"text/html,application/xhtml+xml,application/xml;q=0.9,*/*;q=0.8\", \"DNT\":\"1\",\"Connection\":\"close\", \"Upgrade-Insecure-Requests\":\"1\"}\n",
    "\n",
    "page = requests.get(URL, headers=headers)\n",
    "\n",
    "soup1 = BeautifulSoup(page.content, 'html.parser')\n",
    "soup2 = BeautifulSoup(soup1.prettify(),'html.parser')\n",
    "\n",
    "title = soup2.find(id='productTitle').get_text()\n",
    "price = soup2.find(id='corePrice_feature_div').get_text()\n",
    "print(title)\n",
    "print(price)"
   ]
  },
  {
   "cell_type": "code",
   "execution_count": 43,
   "id": "9aa67498-10ee-4e98-8138-330049b750fa",
   "metadata": {},
   "outputs": [
    {
     "name": "stdout",
     "output_type": "stream",
     "text": [
      "Retreez Funny Mug - Torture The Data Data Science Scientist Analyst Accounting Statistics 11 Oz Ceramic Coffee Mugs - Funny Sarcasm Inspirational birthday gifts for friend coworker colleague him her\n",
      "15.5\n"
     ]
    }
   ],
   "source": [
    "price = price.strip()[1:5]\n",
    "title = title.strip()\n",
    "\n",
    "print(title)\n",
    "print(price)"
   ]
  },
  {
   "cell_type": "code",
   "execution_count": 44,
   "id": "d8baf304-31b7-4161-8ba7-b9ffb9693dea",
   "metadata": {},
   "outputs": [
    {
     "name": "stdout",
     "output_type": "stream",
     "text": [
      "2023-07-21\n"
     ]
    }
   ],
   "source": [
    "import datetime\n",
    "today = datetime.date.today()\n",
    "print(today)"
   ]
  },
  {
   "cell_type": "code",
   "execution_count": 63,
   "id": "ed046b3f-e9fc-4e55-9737-6165c2a6a07d",
   "metadata": {},
   "outputs": [],
   "source": [
    "import csv\n",
    "\n",
    "header = ['Title', 'Price','Date']\n",
    "data = [title, price, today]\n",
    "\n",
    "with open('Amazon_Web_Scraper_Dataset2.0.csv','w', newline='',encoding='UTF8') as f:\n",
    "    writer = csv.writer(f)\n",
    "    writer.writerow(header)\n",
    "    writer.writerow(data)\n",
    "    "
   ]
  },
  {
   "cell_type": "code",
   "execution_count": 64,
   "id": "9ecb6618-bd73-4d5f-a490-29315f8cdfc7",
   "metadata": {},
   "outputs": [
    {
     "data": {
      "text/plain": [
       "str"
      ]
     },
     "execution_count": 64,
     "metadata": {},
     "output_type": "execute_result"
    }
   ],
   "source": [
    "type(price)"
   ]
  },
  {
   "cell_type": "code",
   "execution_count": 71,
   "id": "bc2ff654-9264-4b92-a940-330ba2465643",
   "metadata": {},
   "outputs": [],
   "source": [
    "# Now we are appending data to the csv\n",
    "with open('Amazon_Web_Scraper_Dataset2.0.csv','a+', newline='',encoding='UTF8') as f:\n",
    "    writer = csv.writer(f)\n",
    "    writer.writerow(data)"
   ]
  },
  {
   "cell_type": "code",
   "execution_count": 76,
   "id": "6de3c274-5a9a-4843-8867-c75e0efd3804",
   "metadata": {},
   "outputs": [
    {
     "data": {
      "text/html": [
       "<div>\n",
       "<style scoped>\n",
       "    .dataframe tbody tr th:only-of-type {\n",
       "        vertical-align: middle;\n",
       "    }\n",
       "\n",
       "    .dataframe tbody tr th {\n",
       "        vertical-align: top;\n",
       "    }\n",
       "\n",
       "    .dataframe thead th {\n",
       "        text-align: right;\n",
       "    }\n",
       "</style>\n",
       "<table border=\"1\" class=\"dataframe\">\n",
       "  <thead>\n",
       "    <tr style=\"text-align: right;\">\n",
       "      <th></th>\n",
       "      <th>Title</th>\n",
       "      <th>Price</th>\n",
       "      <th>Date</th>\n",
       "    </tr>\n",
       "  </thead>\n",
       "  <tbody>\n",
       "    <tr>\n",
       "      <th>0</th>\n",
       "      <td>Retreez Funny Mug - Torture The Data Data Scie...</td>\n",
       "      <td>15.5</td>\n",
       "      <td>2023-07-21</td>\n",
       "    </tr>\n",
       "    <tr>\n",
       "      <th>1</th>\n",
       "      <td>Retreez Funny Mug - Torture The Data Data Scie...</td>\n",
       "      <td>15.5</td>\n",
       "      <td>2023-07-21</td>\n",
       "    </tr>\n",
       "    <tr>\n",
       "      <th>2</th>\n",
       "      <td>Retreez Funny Mug - Torture The Data Data Scie...</td>\n",
       "      <td>15.5</td>\n",
       "      <td>2023-07-21</td>\n",
       "    </tr>\n",
       "    <tr>\n",
       "      <th>3</th>\n",
       "      <td>Retreez Funny Mug - Torture The Data Data Scie...</td>\n",
       "      <td>15.5</td>\n",
       "      <td>2023-07-21</td>\n",
       "    </tr>\n",
       "  </tbody>\n",
       "</table>\n",
       "</div>"
      ],
      "text/plain": [
       "                                               Title  Price        Date\n",
       "0  Retreez Funny Mug - Torture The Data Data Scie...   15.5  2023-07-21\n",
       "1  Retreez Funny Mug - Torture The Data Data Scie...   15.5  2023-07-21\n",
       "2  Retreez Funny Mug - Torture The Data Data Scie...   15.5  2023-07-21\n",
       "3  Retreez Funny Mug - Torture The Data Data Scie...   15.5  2023-07-21"
      ]
     },
     "execution_count": 76,
     "metadata": {},
     "output_type": "execute_result"
    }
   ],
   "source": [
    "import pandas as pd\n",
    "\n",
    "df = pd.read_csv(r\"Amazon_Web_Scraper_Dataset2.0.csv\")\n",
    "df"
   ]
  },
  {
   "cell_type": "markdown",
   "id": "a5617066-1130-4f78-8cc1-bb2eca2f4628",
   "metadata": {},
   "source": [
    "<h3><b>Automating the monitoring process </b></h3>"
   ]
  },
  {
   "cell_type": "code",
   "execution_count": null,
   "id": "64a10b7c-381e-4a83-a09b-9a5ce3f0937e",
   "metadata": {},
   "outputs": [],
   "source": [
    "# This will send email according to the condition\n",
    "def send_email():\n",
    "    server = smtplib.SMTP_SSL('smtp.gmail.com', 465)\n",
    "    server.ehlo()\n",
    "    #server.starttis()\n",
    "    server.ehlo()\n",
    "    server.login('Rmano@gmail.com', 'xxxxxxx')\n",
    "\n",
    "    subject = \"The product you want is below $15! Now is your chance to buy!\"\n",
    "    body = \"This is the moment we have been waiting for. Now is your chance to pick up the product of your dreams. Don't mess it up! Link here: href{..}\"\n",
    "\n",
    "    msg =f\"Subject: {subject}\\n\\n{body}\"\n",
    "\n",
    "    server.sendmail(\n",
    "        'Rmano@gmail.com',\n",
    "        msg\n",
    "    )"
   ]
  },
  {
   "cell_type": "code",
   "execution_count": 80,
   "id": "a41454c6-350c-4ed1-8791-d22923f5eab3",
   "metadata": {},
   "outputs": [],
   "source": [
    "# monitoring\n",
    "def check_price():\n",
    "    URL = 'https://www.amazon.com/Retreez-Funny-Mug-Accounting-Inspirational/dp/B0BHCP5GMM/ref=sr_1_3?keywords=data+analyst+gift&qid=1689878304&sprefix=data+analyst+%2Caps%2C287&sr=8-3'\n",
    "\n",
    "    headers = {\"User-Agent\": \"Mozilla/5.0 (Windows NT 10.0; Win64; x64) AppleWebKit/537.36 (KHTML, like Gecko) Chrome/78.0.3904.108 Safari/537.36\", \"Accept-Encoding\":\"gzip, deflate\", \"Accept\":\"text/html,application/xhtml+xml,application/xml;q=0.9,*/*;q=0.8\", \"DNT\":\"1\",\"Connection\":\"close\", \"Upgrade-Insecure-Requests\":\"1\"}\n",
    "\n",
    "    page = requests.get(URL, headers=headers)\n",
    "    \n",
    "    soup1 = BeautifulSoup(page.content, 'html.parser')\n",
    "    soup2 = BeautifulSoup(soup1.prettify(),'html.parser')\n",
    "    \n",
    "    title = soup2.find(id='productTitle').get_text()\n",
    "    price = soup2.find(id='corePrice_feature_div').get_text()\n",
    "\n",
    "    price = price.strip()[1:5]\n",
    "    title = title.strip()\n",
    "\n",
    "    import datetime\n",
    "    today = datetime.date.today()\n",
    "\n",
    "    import csv\n",
    "\n",
    "    header = ['Title', 'Price','Date']\n",
    "    data = [title, price, today]\n",
    "\n",
    "    with open('Amazon_Web_Scraper_Dataset2.0.csv','a+', newline='',encoding='UTF8') as f:\n",
    "        writer = csv.writer(f)\n",
    "        writer.writerow(data)\n",
    "\n",
    "    if(price < 14):\n",
    "        send_email()\n",
    "        "
   ]
  },
  {
   "cell_type": "code",
   "execution_count": 77,
   "id": "207dd513-ee1b-4ff3-863d-befe88fbf451",
   "metadata": {},
   "outputs": [
    {
     "ename": "KeyboardInterrupt",
     "evalue": "",
     "output_type": "error",
     "traceback": [
      "\u001b[1;31m---------------------------------------------------------------------------\u001b[0m",
      "\u001b[1;31mKeyboardInterrupt\u001b[0m                         Traceback (most recent call last)",
      "Cell \u001b[1;32mIn[77], line 3\u001b[0m\n\u001b[0;32m      1\u001b[0m \u001b[38;5;28;01mwhile\u001b[39;00m(\u001b[38;5;28;01mTrue\u001b[39;00m):\n\u001b[0;32m      2\u001b[0m     check_price()\n\u001b[1;32m----> 3\u001b[0m     \u001b[43mtime\u001b[49m\u001b[38;5;241;43m.\u001b[39;49m\u001b[43msleep\u001b[49m\u001b[43m(\u001b[49m\u001b[38;5;241;43m5\u001b[39;49m\u001b[43m)\u001b[49m\n",
      "\u001b[1;31mKeyboardInterrupt\u001b[0m: "
     ]
    }
   ],
   "source": [
    "# let's assume that is black friday on Amazon, monitoring every single day \n",
    "while(True):\n",
    "    check_price()\n",
    "    time.sleep(86400)"
   ]
  },
  {
   "cell_type": "code",
   "execution_count": 79,
   "id": "60630f67-06ef-41ea-b924-37acf59cc751",
   "metadata": {},
   "outputs": [
    {
     "data": {
      "text/html": [
       "<div>\n",
       "<style scoped>\n",
       "    .dataframe tbody tr th:only-of-type {\n",
       "        vertical-align: middle;\n",
       "    }\n",
       "\n",
       "    .dataframe tbody tr th {\n",
       "        vertical-align: top;\n",
       "    }\n",
       "\n",
       "    .dataframe thead th {\n",
       "        text-align: right;\n",
       "    }\n",
       "</style>\n",
       "<table border=\"1\" class=\"dataframe\">\n",
       "  <thead>\n",
       "    <tr style=\"text-align: right;\">\n",
       "      <th></th>\n",
       "      <th>Title</th>\n",
       "      <th>Price</th>\n",
       "      <th>Date</th>\n",
       "    </tr>\n",
       "  </thead>\n",
       "  <tbody>\n",
       "    <tr>\n",
       "      <th>0</th>\n",
       "      <td>Retreez Funny Mug - Torture The Data Data Scie...</td>\n",
       "      <td>15.5</td>\n",
       "      <td>2023-07-21</td>\n",
       "    </tr>\n",
       "    <tr>\n",
       "      <th>1</th>\n",
       "      <td>Retreez Funny Mug - Torture The Data Data Scie...</td>\n",
       "      <td>15.5</td>\n",
       "      <td>2023-07-21</td>\n",
       "    </tr>\n",
       "    <tr>\n",
       "      <th>2</th>\n",
       "      <td>Retreez Funny Mug - Torture The Data Data Scie...</td>\n",
       "      <td>15.5</td>\n",
       "      <td>2023-07-21</td>\n",
       "    </tr>\n",
       "    <tr>\n",
       "      <th>3</th>\n",
       "      <td>Retreez Funny Mug - Torture The Data Data Scie...</td>\n",
       "      <td>15.5</td>\n",
       "      <td>2023-07-21</td>\n",
       "    </tr>\n",
       "    <tr>\n",
       "      <th>4</th>\n",
       "      <td>Retreez Funny Mug - Torture The Data Data Scie...</td>\n",
       "      <td>15.5</td>\n",
       "      <td>2023-07-21</td>\n",
       "    </tr>\n",
       "    <tr>\n",
       "      <th>5</th>\n",
       "      <td>Retreez Funny Mug - Torture The Data Data Scie...</td>\n",
       "      <td>15.5</td>\n",
       "      <td>2023-07-21</td>\n",
       "    </tr>\n",
       "    <tr>\n",
       "      <th>6</th>\n",
       "      <td>Retreez Funny Mug - Torture The Data Data Scie...</td>\n",
       "      <td>15.5</td>\n",
       "      <td>2023-07-21</td>\n",
       "    </tr>\n",
       "  </tbody>\n",
       "</table>\n",
       "</div>"
      ],
      "text/plain": [
       "                                               Title  Price        Date\n",
       "0  Retreez Funny Mug - Torture The Data Data Scie...   15.5  2023-07-21\n",
       "1  Retreez Funny Mug - Torture The Data Data Scie...   15.5  2023-07-21\n",
       "2  Retreez Funny Mug - Torture The Data Data Scie...   15.5  2023-07-21\n",
       "3  Retreez Funny Mug - Torture The Data Data Scie...   15.5  2023-07-21\n",
       "4  Retreez Funny Mug - Torture The Data Data Scie...   15.5  2023-07-21\n",
       "5  Retreez Funny Mug - Torture The Data Data Scie...   15.5  2023-07-21\n",
       "6  Retreez Funny Mug - Torture The Data Data Scie...   15.5  2023-07-21"
      ]
     },
     "execution_count": 79,
     "metadata": {},
     "output_type": "execute_result"
    }
   ],
   "source": [
    "import pandas as pd\n",
    "\n",
    "df = pd.read_csv(r\"Amazon_Web_Scraper_Dataset2.0.csv\")\n",
    "df"
   ]
  }
 ],
 "metadata": {
  "kernelspec": {
   "display_name": "Python 3 (ipykernel)",
   "language": "python",
   "name": "python3"
  },
  "language_info": {
   "codemirror_mode": {
    "name": "ipython",
    "version": 3
   },
   "file_extension": ".py",
   "mimetype": "text/x-python",
   "name": "python",
   "nbconvert_exporter": "python",
   "pygments_lexer": "ipython3",
   "version": "3.9.13"
  }
 },
 "nbformat": 4,
 "nbformat_minor": 5
}
